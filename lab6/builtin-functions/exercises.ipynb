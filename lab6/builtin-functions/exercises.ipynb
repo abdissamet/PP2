{
 "cells": [
  {
   "cell_type": "code",
   "execution_count": 4,
   "metadata": {},
   "outputs": [
    {
     "name": "stdout",
     "output_type": "stream",
     "text": [
      "120\n"
     ]
    }
   ],
   "source": [
    "#1\n",
    "from functools import reduce\n",
    "def my_multi(list):\n",
    "    return reduce(lambda x,y: x * y, list)\n",
    "print(my_multi([1,2,3,4,5]))"
   ]
  },
  {
   "cell_type": "code",
   "execution_count": 14,
   "metadata": {},
   "outputs": [
    {
     "name": "stdout",
     "output_type": "stream",
     "text": [
      "(4, 1)\n"
     ]
    }
   ],
   "source": [
    "#2\n",
    "def count_u_l(s):\n",
    "    upper = 0\n",
    "    lower = 0\n",
    "    for c in s:\n",
    "        if c.isupper():\n",
    "            upper += 1\n",
    "        if c.islower():\n",
    "            lower += 1\n",
    "    return upper, lower\n",
    "print(count_u_l(\"HeLLO\"))"
   ]
  },
  {
   "cell_type": "code",
   "execution_count": null,
   "metadata": {},
   "outputs": [
    {
     "name": "stdout",
     "output_type": "stream",
     "text": [
      "True\n",
      "False\n"
     ]
    }
   ],
   "source": [
    "#3\n",
    "def is_palindrome(s):\n",
    "    if s == s[::-1]:\n",
    "        return True\n",
    "    return False\n",
    "print(is_palindrome(\"madam\"))\n",
    "print(is_palindrome(\"salem\"))"
   ]
  },
  {
   "cell_type": "code",
   "execution_count": null,
   "metadata": {},
   "outputs": [],
   "source": [
    "#4\n",
    "import math\n",
    "import time\n",
    "\n",
    "time_miliseconds = int(input(\"Enter a number: \"))\n",
    "time2_miliseconds = int(input(\"Enter delay in milliseconds: \"))\n",
    "\n",
    "time.sleep(time2_miliseconds / 1000)\n",
    "\n",
    "print(f\"Square root of {time_miliseconds} after {time2_miliseconds} milliseconds is {math.sqrt(time_miliseconds)}\")\n"
   ]
  },
  {
   "cell_type": "code",
   "execution_count": 12,
   "metadata": {},
   "outputs": [
    {
     "name": "stdout",
     "output_type": "stream",
     "text": [
      "True\n",
      "False\n"
     ]
    }
   ],
   "source": [
    "#5\n",
    "def all_true(tpl):\n",
    "    return all(tpl)\n",
    "print(all_true((True,True,1)))\n",
    "print(all_true((0,False,False)))"
   ]
  }
 ],
 "metadata": {
  "kernelspec": {
   "display_name": "base",
   "language": "python",
   "name": "python3"
  },
  "language_info": {
   "codemirror_mode": {
    "name": "ipython",
    "version": 3
   },
   "file_extension": ".py",
   "mimetype": "text/x-python",
   "name": "python",
   "nbconvert_exporter": "python",
   "pygments_lexer": "ipython3",
   "version": "3.12.7"
  }
 },
 "nbformat": 4,
 "nbformat_minor": 2
}
