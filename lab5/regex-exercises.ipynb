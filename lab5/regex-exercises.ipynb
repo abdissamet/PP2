{
 "cells": [
  {
   "cell_type": "code",
   "execution_count": null,
   "metadata": {},
   "outputs": [],
   "source": [
    "#1\n",
    "import re\n",
    "txt = input()\n",
    "word = re.findall(r'ab*', txt)\n",
    "print(word)"
   ]
  },
  {
   "cell_type": "code",
   "execution_count": null,
   "metadata": {},
   "outputs": [],
   "source": [
    "#2\n",
    "import re\n",
    "txt = input()\n",
    "word = re.findall(r'ab{2,3}', txt)\n",
    "print(word)"
   ]
  },
  {
   "cell_type": "code",
   "execution_count": null,
   "metadata": {},
   "outputs": [],
   "source": [
    "import re \n",
    " \n",
    "txt=input()\n",
    "word=re.findall(r'\\b[A-Za-z]+(?:_[A-Za-z]+)+\\b', txt)\n",
    "print(word)"
   ]
  },
  {
   "cell_type": "code",
   "execution_count": null,
   "metadata": {},
   "outputs": [],
   "source": [
    "#4\n",
    "import re \n",
    " \n",
    "txt=input()\n",
    "word=re.findall(r'\\b[A-Z][a-z]+\\b', txt)\n",
    "print(word)"
   ]
  },
  {
   "cell_type": "code",
   "execution_count": null,
   "metadata": {},
   "outputs": [],
   "source": [
    "#5\n",
    "import re \n",
    " \n",
    "txt=input()\n",
    "word=re.findall(r'^a.b$', txt)\n",
    "print(word)"
   ]
  },
  {
   "cell_type": "code",
   "execution_count": null,
   "metadata": {},
   "outputs": [],
   "source": [
    "#6\n",
    "import re \n",
    " \n",
    "txt=input()\n",
    "word=re.sub(r'[,.]', ':', txt)\n",
    "print(word) "
   ]
  },
  {
   "cell_type": "code",
   "execution_count": null,
   "metadata": {},
   "outputs": [],
   "source": [
    "#7\n",
    "import re\n",
    "\n",
    "txt=input()\n",
    "word=re.sub(r'_','', txt)\n",
    "print(word)"
   ]
  },
  {
   "cell_type": "code",
   "execution_count": null,
   "metadata": {},
   "outputs": [],
   "source": [
    "#8\n",
    "import re\n",
    "\n",
    "txt=input()\n",
    "word=re.findall(r'[A-Z][^A-Z]*', txt)\n",
    "print(word)"
   ]
  },
  {
   "cell_type": "code",
   "execution_count": null,
   "metadata": {},
   "outputs": [],
   "source": [
    "#9\n",
    "import re\n",
    "\n",
    "txt = input()\n",
    "word = re.sub(r\"([A-Z])([A-Z][a-z])\", r\"\\1 \\2\", txt)\n",
    "res = re.sub(r\"([a-z])([A-Z])\", r\"\\1 \\2\", word)\n",
    "print(res)\n"
   ]
  },
  {
   "cell_type": "code",
   "execution_count": null,
   "metadata": {},
   "outputs": [],
   "source": [
    "#10\n",
    "import re\n",
    "\n",
    "txt = input()\n",
    "snake_case = re.sub(r'([a-z])([A-Z])', r'\\1_\\2', txt).lower()\n",
    "print(snake_case)\n"
   ]
  }
 ],
 "metadata": {
  "kernelspec": {
   "display_name": "base",
   "language": "python",
   "name": "python3"
  },
  "language_info": {
   "name": "python",
   "version": "3.12.7"
  }
 },
 "nbformat": 4,
 "nbformat_minor": 2
}
