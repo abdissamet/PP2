{
 "cells": [
  {
   "cell_type": "code",
   "execution_count": 3,
   "metadata": {},
   "outputs": [
    {
     "name": "stdout",
     "output_type": "stream",
     "text": [
      "{'apple', 'cherry'}\n",
      "{'cherry', 'apple'}\n",
      "set()\n"
     ]
    }
   ],
   "source": [
    "#Remove Set Items exercise\n",
    "\n",
    "# number 1 exercise\n",
    "fruits = {\"apple\", \"banana\", \"cherry\"}\n",
    "fruits.remove(\"banana\")\n",
    "print(fruits)\n",
    "\n",
    "# number 2 exercise\n",
    "fruits = {\"apple\", \"banana\", \"cherry\"}\n",
    "fruits.discard(\"banana\")\n",
    "print(fruits)\n",
    "\n",
    "# number 3 exercise \n",
    "fruits = {'apple', 'banana', 'cherry'}\n",
    "fruits.clear()\n",
    "print(fruits)"
   ]
  },
  {
   "cell_type": "code",
   "execution_count": 8,
   "metadata": {},
   "outputs": [
    {
     "name": "stdout",
     "output_type": "stream",
     "text": [
      "{'apple', 'orange', 'banana', 'cherry'}\n",
      "{'banana', 'grapes', 'mango', 'cherry', 'orange', 'apple'}\n"
     ]
    }
   ],
   "source": [
    "#Add Set Items exercise\n",
    "\n",
    "# number 1 exercise\n",
    "fruits = {\"apple\", \"banana\", \"cherry\"}\n",
    "fruits.add(\"orange\")\n",
    "print(fruits)\n",
    "\n",
    "# number 2 exercise\n",
    "fruits = {\"apple\", \"banana\", \"cherry\"}\n",
    "more_fruits = [\"orange\", \"mango\", \"grapes\"]\n",
    "fruits.update(more_fruits)\n",
    "print (fruits)\n",
    "\n"
   ]
  },
  {
   "cell_type": "code",
   "execution_count": 5,
   "metadata": {},
   "outputs": [
    {
     "name": "stdout",
     "output_type": "stream",
     "text": [
      "Yes, apple is a fruit!\n",
      "False\n"
     ]
    }
   ],
   "source": [
    "#Access Set Items exercise\n",
    "\n",
    "# number 1 exercise\n",
    "fruits = {\"apple\", \"banana\", \"cherry\"}\n",
    "if \"apple\" in fruits:\n",
    "  print(\"Yes, apple is a fruit!\")\n",
    "\n",
    "# number 2 exercise\n",
    "thisset = {'apple', 'banana', 'cherry'}\n",
    "print('banana' not in thisset)"
   ]
  },
  {
   "cell_type": "code",
   "execution_count": 3,
   "metadata": {},
   "outputs": [
    {
     "name": "stdout",
     "output_type": "stream",
     "text": [
      "3\n"
     ]
    }
   ],
   "source": [
    "#Python Set exercise\n",
    "fruits = {'apple', 'banana', 'cherry'}\n",
    "print(len(fruits))\n"
   ]
  }
 ],
 "metadata": {
  "kernelspec": {
   "display_name": "base",
   "language": "python",
   "name": "python3"
  },
  "language_info": {
   "codemirror_mode": {
    "name": "ipython",
    "version": 3
   },
   "file_extension": ".py",
   "mimetype": "text/x-python",
   "name": "python",
   "nbconvert_exporter": "python",
   "pygments_lexer": "ipython3",
   "version": "3.12.7"
  }
 },
 "nbformat": 4,
 "nbformat_minor": 2
}
