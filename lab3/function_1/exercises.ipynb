{
 "cells": [
  {
   "cell_type": "code",
   "execution_count": 6,
   "metadata": {},
   "outputs": [],
   "source": [
    "#1\n",
    "\n",
    "def grams(gram):\n",
    "    return 28.3495231 * gram\n",
    "gram=float(input(\"gram:\"))\n",
    "print(\"ounces=\",grams(gram))"
   ]
  },
  {
   "cell_type": "code",
   "execution_count": null,
   "metadata": {},
   "outputs": [],
   "source": [
    "#2\n",
    "\n",
    "def temp(F):\n",
    "    C = (5 / 9) * (F - 32)\n",
    "    return C\n",
    "F = float(input(\"San: \"))\n",
    "print(temp(F))\n"
   ]
  },
  {
   "cell_type": "code",
   "execution_count": 33,
   "metadata": {},
   "outputs": [
    {
     "name": "stdout",
     "output_type": "stream",
     "text": [
      "number of chickens: 23, number of rabbit: 12\n"
     ]
    }
   ],
   "source": [
    "#3\n",
    "\n",
    "def math(heads,legs):\n",
    "    chic = (4 * heads - legs) // 2\n",
    "    rabb = heads - chic\n",
    "    return chic, rabb\n",
    "chic, rabb = math(35, 94)\n",
    "print(f\"number of chickens: {chic}, number of rabbit: {rabb}\")"
   ]
  },
  {
   "cell_type": "code",
   "execution_count": 8,
   "metadata": {},
   "outputs": [],
   "source": [
    "#4\n",
    "\n",
    "def is_prime(num):\n",
    "    if num < 2:\n",
    "        return False\n",
    "    for i in range(2, int(num**0.5) + 1):\n",
    "        if num % i == 0:\n",
    "            return False\n",
    "    return True\n",
    "\n",
    "def filter_prime(numbers):\n",
    "    return list(filter(is_prime, numbers))\n",
    "\n",
    "numbers_str = input(\"enter list numbers: \")\n",
    "numbers_list = list(map(int, numbers_str.split())) \n",
    "\n",
    "prime_numbers = filter_prime(numbers_list)\n",
    "print(\"Prime numbers:\", prime_numbers)"
   ]
  },
  {
   "cell_type": "code",
   "execution_count": null,
   "metadata": {},
   "outputs": [],
   "source": [
    "#5\n",
    "\n",
    "def per_s(word):\n",
    "    n = len(word)\n",
    "    for i in range(n):\n",
    "        for j in range(n):\n",
    "            print(word[j - i], end = \" \")\n",
    "        print()\n",
    "k = str(input(\"Write the word: \"))\n",
    "per_s(k)"
   ]
  },
  {
   "cell_type": "code",
   "execution_count": 9,
   "metadata": {},
   "outputs": [],
   "source": [
    "#6\n",
    "\n",
    "def rev_word(word):\n",
    "    s = word.split()\n",
    "    rev_s = s[::-1] \n",
    "    return \" \".join(rev_s) \n",
    "k = input(\"Write the word: \")\n",
    "print(rev_word(k))"
   ]
  },
  {
   "cell_type": "code",
   "execution_count": null,
   "metadata": {},
   "outputs": [],
   "source": [
    "#7\n",
    "\n",
    "def equal_3(sandar):\n",
    "    for i in range(len(sandar) - 1):\n",
    "        if sandar[i] == 3 and sandar[i + 1] == 3:\n",
    "            return True\n",
    "    return False\n",
    "\n",
    "equal_3([1, 3, 3])\n",
    "print(equal_3([1, 3, 3]))\n",
    "print(equal_3([1, 3, 1, 3]))\n",
    "print(equal_3([3, 1, 3]))"
   ]
  },
  {
   "cell_type": "code",
   "execution_count": 12,
   "metadata": {},
   "outputs": [
    {
     "name": "stdout",
     "output_type": "stream",
     "text": [
      "True\n",
      "True\n",
      "False\n"
     ]
    }
   ],
   "source": [
    "#8\n",
    "\n",
    "def my_007(sandar):\n",
    "    res = []\n",
    "    for i in sandar:\n",
    "        if i == 0 or i == 7:\n",
    "            res.append(i)\n",
    "    \n",
    "    f = False\n",
    "    for i in range(len(res) - 2):\n",
    "         if res[i]==res[i+1] and res[i]==0 and res[i+2]==7:\n",
    "             f = True\n",
    "    if f:\n",
    "        print(\"True\")\n",
    "    else:\n",
    "        print(\"False\")\n",
    "             \n",
    "my_007([1,2,4,0,0,7,5])\n",
    "my_007([1,0,2,4,0,5,7]) \n",
    "my_007([1,7,2,0,4,5,0])\n"
   ]
  },
  {
   "cell_type": "code",
   "execution_count": null,
   "metadata": {},
   "outputs": [],
   "source": [
    "#9\n",
    "\n",
    "def sphere(radius):\n",
    "    pi = 3.14\n",
    "    return (4/3) * pi * (r ** 3)\n",
    "r = float(input(\"San: \"))\n",
    "print(sphere(r))\n"
   ]
  },
  {
   "cell_type": "code",
   "execution_count": 17,
   "metadata": {},
   "outputs": [],
   "source": [
    "#10\n",
    "\n",
    "def unique_el(list):\n",
    "    res = []\n",
    "    for i in list:\n",
    "        if i not in res:\n",
    "            res.append(i)\n",
    "    return res\n",
    "\n",
    "l = input(\"Sandar: \").split()\n",
    "l = [int(i) for i in l]\n",
    "res = unique_el(l)\n",
    "\n",
    "print(res)\n"
   ]
  },
  {
   "cell_type": "code",
   "execution_count": null,
   "metadata": {},
   "outputs": [
    {
     "name": "stdout",
     "output_type": "stream",
     "text": [
      "YES\n"
     ]
    }
   ],
   "source": [
    "#11\n",
    "\n",
    "def is_Palindrome(soz):\n",
    "    if soz == soz[::-1]:\n",
    "        print(\"YES\")\n",
    "    else:\n",
    "        print(\"NO\")\n",
    "\n",
    "P = input(\"soz engiz: \")\n",
    "is_Palindrome(P)"
   ]
  },
  {
   "cell_type": "code",
   "execution_count": null,
   "metadata": {},
   "outputs": [],
   "source": [
    "#12\n",
    "\n",
    "def histogram(list):\n",
    "    for i in list:\n",
    "        print(\"*\" * i)\n",
    "\n",
    "n = input(\"sandar: \")\n",
    "mylist=list(map(int,n.split()))\n",
    "histogram(mylist)"
   ]
  },
  {
   "cell_type": "code",
   "execution_count": null,
   "metadata": {},
   "outputs": [],
   "source": [
    "#13\n",
    "\n",
    "from random import randint\n",
    "\n",
    "def guess_a_number():\n",
    "    print(\"Hello! What is your name?\")\n",
    "    name = input(\"Name: \")\n",
    "    print(f\"Well, {name}, I am thinking of a number between 1 and 20.\")\n",
    "    \n",
    "    number = randint(1, 20)\n",
    "    attempts = 0\n",
    "    \n",
    "    while True:\n",
    "        guess = int(input(\"Take a guess: \"))\n",
    "        attempts += 1\n",
    "        \n",
    "        if guess == number:\n",
    "            print(f\"Good job, {name}! You guessed my number in {attempts} guesses!\")\n",
    "            break\n",
    "        elif guess > number:\n",
    "            print(\"Your guess is too high.\")\n",
    "        else:\n",
    "            print(\"Your guess is too low.\")\n",
    "\n",
    "guess_a_number()"
   ]
  },
  {
   "cell_type": "code",
   "execution_count": null,
   "metadata": {},
   "outputs": [],
   "source": [
    "#14\n",
    "\n",
    "from random import randint\n",
    "\n",
    "def guess_a_number():\n",
    "    print(\"Hello! What is your name?\")\n",
    "    name = input(\"Name: \")\n",
    "    print(f\"Well, {name}, I am thinking of a number between 1 and 20.\")\n",
    "    \n",
    "    number = randint(1, 20)\n",
    "    attempts = 0\n",
    "    \n",
    "    while True:\n",
    "        guess = int(input(\"Take a guess: \"))\n",
    "        attempts += 1\n",
    "        \n",
    "        if guess == number:\n",
    "            print(f\"Good job, {name}! You guessed my number in {attempts} guesses!\")\n",
    "            break\n",
    "        elif guess > number:\n",
    "            print(\"Your guess is too high.\")\n",
    "        else:\n",
    "            print(\"Your guess is too low.\")\n",
    "\n",
    "guess_a_number()\n",
    "\n",
    "def randomator(start, end, length):\n",
    "    arr = []\n",
    "    for i in range(length):\n",
    "        arr.append(randint(start, end))\n",
    "    print(arr)\n",
    "randomator(1,10,10)"
   ]
  }
 ],
 "metadata": {
  "kernelspec": {
   "display_name": "base",
   "language": "python",
   "name": "python3"
  },
  "language_info": {
   "codemirror_mode": {
    "name": "ipython",
    "version": 3
   },
   "file_extension": ".py",
   "mimetype": "text/x-python",
   "name": "python",
   "nbconvert_exporter": "python",
   "pygments_lexer": "ipython3",
   "version": "3.12.7"
  }
 },
 "nbformat": 4,
 "nbformat_minor": 2
}
