{
 "cells": [
  {
   "cell_type": "code",
   "execution_count": 4,
   "metadata": {},
   "outputs": [
    {
     "name": "stdout",
     "output_type": "stream",
     "text": [
      "0\n",
      "1\n",
      "4\n",
      "9\n",
      "16\n",
      "25\n",
      "36\n",
      "49\n",
      "64\n",
      "81\n"
     ]
    }
   ],
   "source": [
    "#1\n",
    "\n",
    "def square(n):\n",
    "    res = []\n",
    "    for i in range(n):\n",
    "        res.append(i ** 2)\n",
    "    return res\n",
    "\n",
    "n = int(input(\"Number: \"))\n",
    "squares = square(n)\n",
    "for square in squares:\n",
    "    print(square)"
   ]
  },
  {
   "cell_type": "code",
   "execution_count": 5,
   "metadata": {},
   "outputs": [
    {
     "name": "stdout",
     "output_type": "stream",
     "text": [
      "0\n",
      "2\n",
      "4\n",
      "6\n",
      "8\n"
     ]
    }
   ],
   "source": [
    "#2\n",
    "\n",
    "def even(n):\n",
    "    res = []\n",
    "    for i in range(0,n):\n",
    "        if i % 2 == 0:\n",
    "            res.append(i)\n",
    "    return res\n",
    "n = int(input(\"Number: \"))\n",
    "evens = even(n)\n",
    "\n",
    "for even in evens:\n",
    "    print(even)"
   ]
  },
  {
   "cell_type": "code",
   "execution_count": 6,
   "metadata": {},
   "outputs": [
    {
     "name": "stdout",
     "output_type": "stream",
     "text": [
      "[0]\n"
     ]
    }
   ],
   "source": [
    "#3\n",
    "\n",
    "def div_3_4(n):\n",
    "    res = []\n",
    "    for i in range(0, n):\n",
    "        if i % 3 == 0 and i % 4 == 0:\n",
    "            res.append(i)\n",
    "    return res\n",
    "x = int(input(\"Number: \"))\n",
    "print(div_3_4(x))"
   ]
  },
  {
   "cell_type": "code",
   "execution_count": 7,
   "metadata": {},
   "outputs": [
    {
     "name": "stdout",
     "output_type": "stream",
     "text": [
      "100\n",
      "121\n",
      "144\n",
      "169\n",
      "196\n",
      "225\n",
      "256\n",
      "289\n",
      "324\n",
      "361\n"
     ]
    }
   ],
   "source": [
    "#4\n",
    "\n",
    "def squares(a,b):\n",
    "    res = []\n",
    "    for i in range(a,b):\n",
    "        res.append(i**2)\n",
    "    return res\n",
    "a,b = map(int,input(\"Numbers: \").split())\n",
    "\n",
    "for sq in squares(a,b):\n",
    "    print(sq)"
   ]
  },
  {
   "cell_type": "code",
   "execution_count": 8,
   "metadata": {},
   "outputs": [
    {
     "name": "stdout",
     "output_type": "stream",
     "text": [
      "10 9 8 7 6 5 4 3 2 1 0 "
     ]
    }
   ],
   "source": [
    "#5\n",
    "\n",
    "def rev(n):\n",
    "    while n >= 0:\n",
    "        yield n\n",
    "        n -= 1\n",
    "\n",
    "n = int(input(\"Number: \"))\n",
    "for num in rev(n):\n",
    "    print(num, end=\" \")"
   ]
  }
 ],
 "metadata": {
  "kernelspec": {
   "display_name": "base",
   "language": "python",
   "name": "python3"
  },
  "language_info": {
   "codemirror_mode": {
    "name": "ipython",
    "version": 3
   },
   "file_extension": ".py",
   "mimetype": "text/x-python",
   "name": "python",
   "nbconvert_exporter": "python",
   "pygments_lexer": "ipython3",
   "version": "3.12.7"
  }
 },
 "nbformat": 4,
 "nbformat_minor": 2
}
