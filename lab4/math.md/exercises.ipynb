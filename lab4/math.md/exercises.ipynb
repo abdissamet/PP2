{
 "cells": [
  {
   "cell_type": "code",
   "execution_count": null,
   "metadata": {},
   "outputs": [],
   "source": [
    "#1\n",
    "\n",
    "import math\n",
    "deg = int(input(\"n: \"))\n",
    "rad = math.radians(deg)\n",
    "print(\"Input deg: \",deg)\n",
    "print(\"Output rad: \",rad)\n"
   ]
  },
  {
   "cell_type": "code",
   "execution_count": null,
   "metadata": {},
   "outputs": [],
   "source": [
    "#2\n",
    "\n",
    "import math\n",
    "h=float(input(\"Hight:\"))\n",
    "a=float(input(\"Base,first value:\"))\n",
    "b=float(input(\"Base,second value:\"))\n",
    "print(\"Expected Output:\",(a+b)*0.5*h)"
   ]
  },
  {
   "cell_type": "code",
   "execution_count": null,
   "metadata": {},
   "outputs": [],
   "source": [
    "#3\n",
    "\n",
    "import math\n",
    "n=int(input(\"Input number of sides:\"))\n",
    "a=int(input(\"Input the length of a side:\"))\n",
    "area = (n * a**2) / (4 * math.tan(math.pi / n))\n",
    "print(\"The area of the polygon is: \",area)"
   ]
  },
  {
   "cell_type": "code",
   "execution_count": null,
   "metadata": {},
   "outputs": [],
   "source": [
    "#4\n",
    "\n",
    "import math\n",
    "a=float(input(\"Length of base:\"))\n",
    "h=float(input(\"Height of parallelogram:\"))\n",
    "area = a * h\n",
    "print(\"The area of the parallelogram: \",area)"
   ]
  }
 ],
 "metadata": {
  "kernelspec": {
   "display_name": "base",
   "language": "python",
   "name": "python3"
  },
  "language_info": {
   "name": "python",
   "version": "3.12.7"
  }
 },
 "nbformat": 4,
 "nbformat_minor": 2
}
