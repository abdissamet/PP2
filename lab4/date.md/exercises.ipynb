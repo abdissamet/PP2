{
 "cells": [
  {
   "cell_type": "code",
   "execution_count": null,
   "metadata": {},
   "outputs": [
    {
     "name": "stdout",
     "output_type": "stream",
     "text": [
      "The present day:  2025-02-12\n",
      "Five days ago:  2025-02-07\n"
     ]
    }
   ],
   "source": [
    "#1\n",
    "from datetime import date, timedelta, datetime\n",
    "x = date.today() - timedelta(5)\n",
    "print(\"The present day: \",date.today())\n",
    "print(\"Five days ago: \",x)\n"
   ]
  },
  {
   "cell_type": "code",
   "execution_count": 15,
   "metadata": {},
   "outputs": [
    {
     "name": "stdout",
     "output_type": "stream",
     "text": [
      "The yesterday day:  2025-02-11\n",
      "The present day:  2025-02-12\n",
      "The tomorrow day:  2025-02-13\n"
     ]
    }
   ],
   "source": [
    "#2\n",
    "\n",
    "from datetime import date, timedelta, datetime\n",
    "x = date.today() - timedelta(1)\n",
    "y = date.today()\n",
    "z = date.today() + timedelta(1)\n",
    "print(\"The yesterday day: \",x)\n",
    "print(\"The present day: \",y)\n",
    "print(\"The tomorrow day: \",z)\n"
   ]
  },
  {
   "cell_type": "code",
   "execution_count": 19,
   "metadata": {},
   "outputs": [
    {
     "name": "stdout",
     "output_type": "stream",
     "text": [
      "No microseconds:  2025-02-12 19:32:36\n"
     ]
    }
   ],
   "source": [
    "#3\n",
    "\n",
    "from datetime import datetime\n",
    "\n",
    "now = datetime.now().replace(microsecond=0)\n",
    "print(\"No microseconds: \", now)\n"
   ]
  },
  {
   "cell_type": "code",
   "execution_count": 20,
   "metadata": {},
   "outputs": [
    {
     "name": "stdout",
     "output_type": "stream",
     "text": [
      "172800.0\n"
     ]
    }
   ],
   "source": [
    "#4\n",
    "\n",
    "from datetime import date,timedelta, datetime\n",
    "yesterday = datetime.now()-timedelta(1)\n",
    "tomorrow = datetime.now()+timedelta(1)\n",
    "\n",
    "\n",
    "yesterday = datetime.timestamp(yesterday)\n",
    "tomorrow = datetime.timestamp(tomorrow)\n",
    "\n",
    "print(tomorrow-yesterday)"
   ]
  }
 ],
 "metadata": {
  "kernelspec": {
   "display_name": "base",
   "language": "python",
   "name": "python3"
  },
  "language_info": {
   "codemirror_mode": {
    "name": "ipython",
    "version": 3
   },
   "file_extension": ".py",
   "mimetype": "text/x-python",
   "name": "python",
   "nbconvert_exporter": "python",
   "pygments_lexer": "ipython3",
   "version": "3.12.7"
  }
 },
 "nbformat": 4,
 "nbformat_minor": 2
}
