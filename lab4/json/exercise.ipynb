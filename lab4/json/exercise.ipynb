{
 "cells": [
  {
   "cell_type": "code",
   "execution_count": null,
   "metadata": {},
   "outputs": [],
   "source": [
    "import json \n",
    "\n",
    "print(\"Interface status\")\n",
    "print(\"=\" * 80)\n",
    "print(\"DN                                                 Description           Speed    MTU  \")\n",
    "print(\"-------------------------------------------------- --------------------  ------  ------\")\n",
    "\n",
    "with open('json/sample-data.json') as f:\n",
    "    data = json.load(f)\n",
    "\n",
    "request_from_server = data[\"imdata\"][0][\"l1PhysIf\"][\"attributes\"][\"dn\"]\n",
    "speed = data[\"imdata\"][0][\"l1PhysIf\"][\"attributes\"][\"fecMode\"]\n",
    "mtu = data[\"imdata\"][0][\"l1PhysIf\"][\"attributes\"][\"mtu\"]\n",
    "print(request_from_server, \"                            \", speed,\" \", mtu )\n",
    "print(request_from_server, \"                            \", speed,\" \", mtu )\n",
    "print(request_from_server, \"                            \", speed,\" \", mtu )"
   ]
  }
 ],
 "metadata": {
  "kernelspec": {
   "display_name": "base",
   "language": "python",
   "name": "python3"
  },
  "language_info": {
   "codemirror_mode": {
    "name": "ipython",
    "version": 3
   },
   "file_extension": ".py",
   "mimetype": "text/x-python",
   "name": "python",
   "nbconvert_exporter": "python",
   "pygments_lexer": "ipython3",
   "version": "3.12.7"
  }
 },
 "nbformat": 4,
 "nbformat_minor": 2
}
